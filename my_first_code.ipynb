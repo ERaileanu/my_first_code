{
 "cells": [
  {
   "cell_type": "code",
   "execution_count": null,
   "id": "16030c56-4746-43bc-a055-dce734be2cda",
   "metadata": {},
   "outputs": [],
   "source": [
    "# This is my first line of code\n",
    "print(\"My name is Elvira\")\n",
    "print(\"The date is 17/09/2024\")"
   ]
  },
  {
   "cell_type": "code",
   "execution_count": 11,
   "id": "63ec734a-1d15-46ff-bdfd-f833c7430df9",
   "metadata": {},
   "outputs": [
    {
     "name": "stdout",
     "output_type": "stream",
     "text": [
      "182900\n"
     ]
    }
   ],
   "source": [
    "# Write a program to analyse real estate data. Print the total sales from December\n",
    "A = 45000\n",
    "B = 23400\n",
    "C = 67000\n",
    "D = 34600\n",
    "E = 12900\n",
    "total_sales = A+B+C+D+E\n",
    "print(total_sales)"
   ]
  },
  {
   "cell_type": "code",
   "execution_count": 13,
   "id": "a00ff15a-03df-45d9-bf0f-8d8a6ec1e44b",
   "metadata": {},
   "outputs": [
    {
     "name": "stdout",
     "output_type": "stream",
     "text": [
      "36580.0\n"
     ]
    }
   ],
   "source": [
    "#Print the average sales price for the month of December\n",
    "average_sales = total_sales/5\n",
    "print(average_sales)"
   ]
  },
  {
   "cell_type": "code",
   "execution_count": 7,
   "id": "fb334c49-a867-4944-a2cc-a163fbf4ab80",
   "metadata": {},
   "outputs": [
    {
     "name": "stdout",
     "output_type": "stream",
     "text": [
      "60500\n"
     ]
    }
   ],
   "source": [
    "#Print the property price for Property C\n",
    "C = 67000\n",
    "C -= 6500\n",
    "print(C)"
   ]
  },
  {
   "cell_type": "code",
   "execution_count": null,
   "id": "dc0576de-f1fb-4ed2-8e84-e9a2cdebd132",
   "metadata": {},
   "outputs": [],
   "source": []
  }
 ],
 "metadata": {
  "kernelspec": {
   "display_name": "Python 3 (ipykernel)",
   "language": "python",
   "name": "python3"
  },
  "language_info": {
   "codemirror_mode": {
    "name": "ipython",
    "version": 3
   },
   "file_extension": ".py",
   "mimetype": "text/x-python",
   "name": "python",
   "nbconvert_exporter": "python",
   "pygments_lexer": "ipython3",
   "version": "3.12.4"
  }
 },
 "nbformat": 4,
 "nbformat_minor": 5
}
